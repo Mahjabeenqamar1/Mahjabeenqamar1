{
  "nbformat": 4,
  "nbformat_minor": 0,
  "metadata": {
    "colab": {
      "provenance": [],
      "include_colab_link": true
    },
    "kernelspec": {
      "name": "python3",
      "display_name": "Python 3"
    },
    "language_info": {
      "name": "python"
    }
  },
  "cells": [
    {
      "cell_type": "markdown",
      "metadata": {
        "id": "view-in-github",
        "colab_type": "text"
      },
      "source": [
        "<a href=\"https://colab.research.google.com/github/Mahjabeenqamar1/Mahjabeenqamar1/blob/main/music_analysis.ipynb\" target=\"_parent\"><img src=\"https://colab.research.google.com/assets/colab-badge.svg\" alt=\"Open In Colab\"/></a>"
      ]
    },
    {
      "cell_type": "code",
      "execution_count": 2,
      "metadata": {
        "id": "FlGK2MWk-3KA"
      },
      "outputs": [],
      "source": [
        "import librosa\n",
        "import numpy as np"
      ]
    },
    {
      "cell_type": "code",
      "source": [
        "\n",
        "def evaluate_music_quality(audio_file):\n",
        "    # Load the audio file\n",
        "    y, sr = librosa.load(audio_file)\n",
        "\n",
        "    # Example criteria for quality evaluation (you can customize these):\n",
        "    tempo, _ = librosa.beat.beat_track(y=y, sr=sr)  # Tempo in BPM\n",
        "    harmony = your_harmony_evaluation_function(y, sr)\n",
        "    melody = your_melody_evaluation_function(y, sr)\n",
        "    rhythm = your_rhythm_evaluation_function(y, sr)\n",
        "    frequency = your_frequency_evaluation_function(y, sr)  # Custom function for frequency evaluation\n",
        "\n",
        "    # Calculate an overall quality score (you can define your own scoring logic)\n",
        "    quality_score = (tempo + harmony + melody + rhythm + frequency) / 5.0\n",
        "\n",
        "    # Convert scores to percentages\n",
        "    quality_score *= 100\n",
        "    harmony *= 100\n",
        "    melody *= 100\n",
        "    rhythm *= 100\n",
        "    frequency *= 100\n",
        "\n",
        "    return quality_score, harmony, melody, rhythm, frequency\n",
        "\n",
        "# Define your own custom evaluation functions\n",
        "def your_harmony_evaluation_function(y, sr):\n",
        "    # Example harmony evaluation: Count the number of distinct pitches in the audio\n",
        "    pitches, magnitudes = librosa.piptrack(y=y, sr=sr)\n",
        "    num_distinct_pitches = len(np.unique(pitches))\n",
        "    harmony_score = num_distinct_pitches / 12.0  # Normalize to a 0-1 scale\n",
        "    return harmony_score\n",
        "\n",
        "def your_melody_evaluation_function(y, sr):\n",
        "    # Example melody evaluation: Calculate the average pitch deviation from a reference key\n",
        "    pitches, magnitudes = librosa.piptrack(y=y, sr=sr)\n",
        "    reference_key = 440.0  # A4 in Hz (adjust as needed)\n",
        "    pitch_deviations = np.abs(pitches - reference_key)\n",
        "    average_deviation = np.mean(pitch_deviations)\n",
        "    melody_score = 1.0 - (average_deviation / reference_key)  # Normalize to a 0-1 scale\n",
        "    return melody_score\n",
        "\n",
        "def your_rhythm_evaluation_function(y, sr):\n",
        "    # Example rhythm evaluation: Calculate the average inter-beat interval\n",
        "    onset_env = librosa.onset.onset_strength(y=y, sr=sr)\n",
        "    tempo, _ = librosa.beat.beat_track(onset_envelope=onset_env, sr=sr)\n",
        "    inter_beat_intervals = 60.0 / tempo\n",
        "    average_interval = np.mean(inter_beat_intervals)\n",
        "    rhythm_score = 1.0 - (average_interval / 2.0)  # Normalize to a 0-1 scale\n",
        "    return rhythm_score\n",
        "\n",
        "def your_frequency_evaluation_function(y, sr):\n",
        "    # Example frequency evaluation: Calculate the spectral centroid\n",
        "    spectral_centroid = librosa.feature.spectral_centroid(y=y, sr=sr)\n",
        "    # Normalize the spectral centroid to a 0-1 scale\n",
        "    frequency_score = (spectral_centroid - np.min(spectral_centroid)) / (np.max(spectral_centroid) - np.min(spectral_centroid))\n",
        "    return np.mean(frequency_score)\n",
        "\n"
      ],
      "metadata": {
        "id": "1yM7lhN8CP6w"
      },
      "execution_count": 3,
      "outputs": []
    },
    {
      "cell_type": "code",
      "source": [
        "if __name__ == \"__main__\":\n",
        "    audio_file_path = \"/content/drive/MyDrive/test.mp3\"  # Replace with the path to your music file\n",
        "\n",
        "    quality_score, harmony_score, melody_score, rhythm_score, frequency_score = evaluate_music_quality(audio_file_path)\n",
        "\n",
        "    print(\"Music Quality Score:\", quality_score, \"%\")\n",
        "    print(\"Harmony Score:\", harmony_score, \"%\")\n",
        "    print(\"Melody Score:\", melody_score, \"%\")\n",
        "    print(\"Rhythm Score:\", rhythm_score, \"%\")\n",
        "    print(\"Frequency Score:\", frequency_score, \"%\")\n"
      ],
      "metadata": {
        "colab": {
          "base_uri": "https://localhost:8080/"
        },
        "id": "z8q_JrIfCcfD",
        "outputId": "7ae68510-6e1e-4267-8197-13b984aaaba8"
      },
      "execution_count": 4,
      "outputs": [
        {
          "output_type": "stream",
          "name": "stdout",
          "text": [
            "Music Quality Score: 5561905.475032617 %\n",
            "Harmony Score: 27799083.333333332 %\n",
            "Melody Score: -2.4491535533558206 %\n",
            "Rhythm Score: 77.94104308390023 %\n",
            "Frequency Score: 32.61244022953756 %\n"
          ]
        }
      ]
    },
    {
      "cell_type": "code",
      "source": [],
      "metadata": {
        "id": "cbfcnMGFNo1D"
      },
      "execution_count": 4,
      "outputs": []
    },
    {
      "cell_type": "code",
      "source": [
        "from google.colab import drive\n",
        "drive.mount('/content/drive')"
      ],
      "metadata": {
        "colab": {
          "base_uri": "https://localhost:8080/"
        },
        "id": "4b0DSZdcxPaZ",
        "outputId": "2d3d9f23-2471-47d3-9314-5a1feb81a5cc"
      },
      "execution_count": 5,
      "outputs": [
        {
          "output_type": "stream",
          "name": "stdout",
          "text": [
            "Drive already mounted at /content/drive; to attempt to forcibly remount, call drive.mount(\"/content/drive\", force_remount=True).\n"
          ]
        }
      ]
    }
  ]
}